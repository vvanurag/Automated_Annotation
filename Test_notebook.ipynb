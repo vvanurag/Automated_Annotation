{
  "cells": [
    {
      "cell_type": "markdown",
      "id": "e2f0be56",
      "metadata": {
        "id": "e2f0be56"
      },
      "source": [
        "### This is just the beginning"
      ]
    },
    {
      "cell_type": "code",
      "execution_count": 1,
      "id": "c297bd99",
      "metadata": {
        "id": "c297bd99",
        "outputId": "eb185052-568f-407c-866a-3c276a833d30",
        "colab": {
          "base_uri": "https://localhost:8080/"
        }
      },
      "outputs": [
        {
          "output_type": "execute_result",
          "data": {
            "text/plain": [
              "10"
            ]
          },
          "metadata": {},
          "execution_count": 1
        }
      ],
      "source": [
        "5+5"
      ]
    },
    {
      "cell_type": "code",
      "source": [
        "ls"
      ],
      "metadata": {
        "id": "s-M-5jX1ru1O",
        "outputId": "613a53d6-3066-44ee-83ea-f7c3e4dbc92e",
        "colab": {
          "base_uri": "https://localhost:8080/"
        }
      },
      "id": "s-M-5jX1ru1O",
      "execution_count": 2,
      "outputs": [
        {
          "output_type": "stream",
          "name": "stdout",
          "text": [
            "\u001b[0m\u001b[01;34msample_data\u001b[0m/\n"
          ]
        }
      ]
    },
    {
      "cell_type": "code",
      "source": [
        "pwd\n"
      ],
      "metadata": {
        "id": "NnEYIwsKshCZ",
        "outputId": "472ca19a-3407-4a45-ba00-2c6b443f683b",
        "colab": {
          "base_uri": "https://localhost:8080/",
          "height": 35
        }
      },
      "id": "NnEYIwsKshCZ",
      "execution_count": 3,
      "outputs": [
        {
          "output_type": "execute_result",
          "data": {
            "text/plain": [
              "'/content'"
            ],
            "application/vnd.google.colaboratory.intrinsic+json": {
              "type": "string"
            }
          },
          "metadata": {},
          "execution_count": 3
        }
      ]
    },
    {
      "cell_type": "code",
      "source": [],
      "metadata": {
        "id": "sxSRyFktsj5z"
      },
      "id": "sxSRyFktsj5z",
      "execution_count": null,
      "outputs": []
    }
  ],
  "metadata": {
    "kernelspec": {
      "display_name": "Python 3 (ipykernel)",
      "language": "python",
      "name": "python3"
    },
    "language_info": {
      "codemirror_mode": {
        "name": "ipython",
        "version": 3
      },
      "file_extension": ".py",
      "mimetype": "text/x-python",
      "name": "python",
      "nbconvert_exporter": "python",
      "pygments_lexer": "ipython3",
      "version": "3.11.5"
    },
    "colab": {
      "provenance": []
    }
  },
  "nbformat": 4,
  "nbformat_minor": 5
}